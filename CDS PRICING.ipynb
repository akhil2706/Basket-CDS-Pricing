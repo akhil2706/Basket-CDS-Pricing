{
 "cells": [
  {
   "cell_type": "code",
   "execution_count": 2,
   "metadata": {
    "collapsed": true
   },
   "outputs": [],
   "source": [
    "import numpy as np\n",
    "import pandas as pd\n",
    "import matplotlib.pyplot as plt\n",
    "from scipy.stats import norm,gaussian_kde,kendalltau,spearmanr,t\n",
    "from sklearn.neighbors import KernelDensity\n",
    "import math\n",
    "from numpy.linalg import inv, det, cholesky\n",
    "from scipy.special import gamma\n",
    "%matplotlib inline"
   ]
  },
  {
   "cell_type": "markdown",
   "metadata": {},
   "source": [
    "## Imports"
   ]
  },
  {
   "cell_type": "markdown",
   "metadata": {},
   "source": [
    "## Importing Spread data"
   ]
  },
  {
   "cell_type": "code",
   "execution_count": 3,
   "metadata": {
    "collapsed": true
   },
   "outputs": [],
   "source": [
    "#--------------------> Importing spread data <------------------#\n",
    "\n",
    "def import_spread(mats=[1,3,5,7,10]):\n",
    "    #mats=[1,3,5,7,10]\n",
    "    spreads=[]\n",
    "    for i in mats:\n",
    "        spreads.append(pd.read_csv(\"cds_data/CDS_{}YEAR.csv\".format(i),parse_dates=[0]))\n",
    "    data=pd.DataFrame()\n",
    "    for sp in spreads:\n",
    "        data=data.append(pd.DataFrame(sp[-1:]))\n",
    "    data.drop(labels='Date',axis=1,inplace=True)\n",
    "    data=data.transpose()\n",
    "    data.columns=['1Y','3Y','5Y','7Y','10Y']\n",
    "    return data\n",
    "\n",
    "\n",
    "#-----------------------> Importing equity data to estimate correlation <-------------------#\n",
    "def import_stock_returns(symbols):\n",
    "    stocks=pd.DataFrame()\n",
    "    for sym in symbols:\n",
    "        df=pd.read_csv('{}.NS.csv'.format(sym),parse_dates=[0],usecols=['Date','Adj Close'])\n",
    "        df.columns=['Date',sym]\n",
    "        if sym == symbols[0]:\n",
    "            stocks=df.copy()\n",
    "        else:\n",
    "            stocks=stocks.merge(df,on='Date')\n",
    "   \n",
    "    data=stocks.drop('Date',axis=1)\n",
    "    returns=(data-data.shift(1))/data.shift(1)\n",
    "    \n",
    "#------------------------> Converting returns to standardised scores <------------------------# \n",
    "    returns=(returns-returns.mean())/returns.std()\n",
    "    returns.dropna(inplace=True)\n",
    "    returns=returns.values\n",
    "    \n",
    "    return returns\n",
    "\n",
    "#--------> Interpolating the intermediary CDS prices to one with annual differences <--------#\n",
    "def interpolate_CDS(data,mats):\n",
    "    interpolated_data=np.zeros((len(data),max(mats)))\n",
    "    \n",
    "    for j in range(len(data)):    \n",
    "        mats_counter=-1\n",
    "        CDS=data.values[j]\n",
    "        interpolated_CDS=np.zeros(max(mats),dtype=np.float)\n",
    "    \n",
    "        for i in range(len(interpolated_CDS)+1):\n",
    "            if i in mats:\n",
    "                mats_counter+=1\n",
    "                interpolated_CDS[i-1]=CDS[mats_counter]\n",
    "            else:\n",
    "                # This variable corresponds to the interval over which we require to interpolate\n",
    "                hl=mats[mats_counter+1]-mats[mats_counter]\n",
    "                # This variable corresponds to the difference between low interval and interpolation point \n",
    "                li=i-mats[mats_counter]\n",
    "                # This variable corresponds to the difference between high interval and interpolation point \n",
    "                hi=mats[mats_counter+1]-i\n",
    "                interpolated_CDS[i-1]= (li*CDS[mats_counter+1])/hl + (hi*CDS[mats_counter])/hl\n",
    "    \n",
    "        interpolated_data[j]=interpolated_CDS\n",
    "\n",
    "    return interpolated_data"
   ]
  },
  {
   "cell_type": "markdown",
   "metadata": {},
   "source": [
    "## Bootstrapping hazard rates from spread"
   ]
  },
  {
   "cell_type": "code",
   "execution_count": 4,
   "metadata": {},
   "outputs": [],
   "source": [
    "def discount(i,j,rate):\n",
    "    return np.exp(-rate*(j-i))\n",
    "\n",
    "def bootstrap(spread, dt, lgd, discount_rate):\n",
    "    surv_prob=np.zeros(len(spread),dtype=np.float)\n",
    "    lambdas=np.zeros(len(surv_prob)-1,dtype=np.float)\n",
    "    \n",
    "    #Computing the survival probability of the first year by the formula: RR/(RR+spread*delta_t) \n",
    "    surv_prob[0]=1\n",
    "    surv_prob[1]=lgd/(lgd+dt*spread[0])\n",
    "    \n",
    "    for i in range(2,len(surv_prob)):\n",
    "        t1=0\n",
    "        for j in range(1,i):\n",
    "            t1+=discount(0,j,discount_rate)*(lgd*surv_prob[j-1]-(lgd+dt*spread[i-1])*surv_prob[j])\n",
    "    \n",
    "        surv_prob[i]=(t1/(discount(0,i,discount_rate)*(lgd+dt*spread[i-1])))+(surv_prob[i-1]*lgd)/(lgd+dt*spread[i-1])\n",
    "        \n",
    "    for i in range(0,len(lambdas)):\n",
    "        lambdas[i]=(-float(1)/dt)*np.log(surv_prob[i+1]/surv_prob[i])\n",
    "    \n",
    "\n",
    "    return lambdas,surv_prob\n",
    "\n"
   ]
  },
  {
   "cell_type": "markdown",
   "metadata": {},
   "source": [
    "## Sampling from Copula"
   ]
  },
  {
   "cell_type": "code",
   "execution_count": 5,
   "metadata": {
    "collapsed": true
   },
   "outputs": [],
   "source": [
    "#--------------------> Computing correlations from data <-------------------#\n",
    "def compute_cov_mat(returns,basket,kind='Spearman'):\n",
    "    #basket=5\n",
    "    cov_mat = [0]*basket\n",
    "    for i in range(0,basket):\n",
    "        cov_mat[i]=[0]*basket\n",
    "    \n",
    "    if kind == 'Linear':\n",
    "        cov_mat=np.cov(returns)\n",
    "    \n",
    "    else:\n",
    "        for i in range(0,basket):\n",
    "            for j in range(0,basket):\n",
    "                if kind == 'Kendall Tau':\n",
    "                    cov_mat[i][j]=np.std()*kendalltau(returns[:,i:i+1],returns[:,j:j+1])[0]\n",
    "                    cov_mat[i][j]=2*np.sin(cov_mat[i][j]*math.pi/6)\n",
    "                if kind == 'Spearman':\n",
    "                    cov_mat[i][j]=spearmanr(returns[:,i:i+1],returns[:,j:j+1])[0]\n",
    "                    cov_mat[i][j]=np.sin(cov_mat[i][j]*math.pi/2)\n",
    "    \n",
    "    return cov_mat\n",
    "\n",
    "def simulating_random_zhist(basket,cov_mat,kind='t-Student',returns=None,df=7,optimise=False):\n",
    "    zsim=np.random.standard_normal(basket)\n",
    "    a=cholesky(cov_mat)\n",
    "    if kind=='Normal':\n",
    "        usim=norm.cdf(np.dot(a,zsim))\n",
    "    \n",
    "    if kind=='t-Student':\n",
    "        if optimise==True:\n",
    "            usim=norm.cdf(returns)\n",
    "            usim[usim == 1]=0.9999\n",
    "            ll=[]\n",
    "            for i in range(2,20):\n",
    "                ll.append(t_copula_density(usim,i,cov_mat))\n",
    "                plt.plot(ll)\n",
    "                plt.show() \n",
    "                df=np.argmax(ll)+2\n",
    "                \n",
    "        zchi=np.random.standard_normal(df)\n",
    "        chisquarerv=np.sum(zchi**2)\n",
    "        y=zsim/((chisquarerv/df)**0.5)\n",
    "        usim=t.cdf(np.dot(a,y),df)\n",
    "    \n",
    "    return usim\n",
    "    "
   ]
  },
  {
   "cell_type": "code",
   "execution_count": 6,
   "metadata": {
    "collapsed": true
   },
   "outputs": [],
   "source": [
    "def default_times(lambdas,survival_probabilities,usim):\n",
    "\n",
    "    default_year=[]\n",
    "    delta_t=[]\n",
    "    for i in range(0,len(lambdas)):\n",
    "        flag=0\n",
    "        for j in range(0,len(lambdas[i])):\n",
    "            if np.sum(lambdas[i][0:j+1]) > np.abs(np.log(1-usim[i])):\n",
    "                default_year.append(j)\n",
    "                flag=1\n",
    "                break\n",
    "        if flag==0:\n",
    "            default_year.append(999)\n",
    "\n",
    "    for i in range(0,len(default_year)):\n",
    "        if default_year[i] == 999:\n",
    "            delta_t.append(999)\n",
    "        else:\n",
    "            delta_t.append((-1/lambdas[i][default_year[i]])*np.log((1-usim[i])/(survival_probabilities[i][default_year[i]])))        \n",
    "        \n",
    "    default_time=np.array(default_year)+np.array(delta_t)\n",
    "    \n",
    "    return default_time,default_year\n",
    "\n"
   ]
  },
  {
   "cell_type": "markdown",
   "metadata": {},
   "source": [
    "## Computing correlations and degrees of freedom"
   ]
  },
  {
   "cell_type": "code",
   "execution_count": 7,
   "metadata": {
    "collapsed": true
   },
   "outputs": [],
   "source": [
    "def t_copula_density(returns,v,cov_mat):\n",
    "    n=np.shape(returns)[1]\n",
    "    log_likelihood=0\n",
    "    det_cov_mat=det(cov_mat)\n",
    "    const=(1/det_cov_mat**(0.5))*(gamma(0.5*(v+n))/gamma(0.5*v))*((gamma(0.5*v)/gamma(0.5*v+0.5))**n)\n",
    "    for u in returns:     \n",
    "        mult=1\n",
    "        for i in range(n):\n",
    "            mult*=(1+(t.ppf(u[i],v)**2)/v)**(-float(v)/2 - 0.5)\n",
    "        const2=(1+np.dot(np.dot(t.ppf(u.T,v),inv(cov_mat)),t.ppf(u,v))/v)**(-(v+n)*0.5)\n",
    "        log_likelihood+=np.log((const*const2)/mult)\n",
    "\n",
    "    \n",
    "    return log_likelihood"
   ]
  },
  {
   "cell_type": "code",
   "execution_count": 34,
   "metadata": {
    "collapsed": true
   },
   "outputs": [],
   "source": [
    "#----------------------> Coding a system with no accruals <---------------------------#\n",
    "def payments(default_time,default_year,rr,rfr,basket,basket_weights):\n",
    "    #rr=0.4\n",
    "    #rfr=0.02\n",
    "    #basket=5\n",
    "    #maturity=5\n",
    "    #basket_weights=[0.2]*5\n",
    "    \n",
    "# Disregarding defaults which happen just after the contract is signed. To get appropriate results\n",
    "    for i in range(len(default_time)):\n",
    "        if default_time[i] <= 0.5:\n",
    "            default_time[i]=999+999\n",
    "\n",
    "    order_of_default=np.argsort(default_time)\n",
    "\n",
    "    defaults=len(default_year)-default_year.count(999)\n",
    "    spreads=[]\n",
    "    pl=[0]*basket\n",
    "    dl=[0]*basket\n",
    "    kth_default=-1\n",
    "    previous_default=0\n",
    "\n",
    "    if defaults ==0:\n",
    "        for k in range(len(pl)):\n",
    "            pl[k]=discount(0,maturity,rfr)*maturity\n",
    "            dl[k]=0\n",
    "    else:\n",
    "        prev_pl=0\n",
    "        prev_tau=0\n",
    "        value_lost=0\n",
    "        for i in range(defaults):\n",
    "            tau=default_time[order_of_default[i]] # The ith default time\n",
    "            dl[i]=discount(0,tau,rfr)*(1-rr)*basket_weights[order_of_default[i]]\n",
    "            pl[i]=prev_pl+(1-value_lost)*discount(0,tau,rfr)*(tau-prev_tau) \n",
    "            value_lost+=basket_weights[order_of_default[i]]\n",
    "            prev_pl=pl[i]\n",
    "            prev_tau=tau\n",
    "        if  defaults < basket:\n",
    "            last_default_time=default_time[order_of_default[defaults-1]]\n",
    "            non_default_premium=discount(0,maturity,rfr)*(maturity-last_default_time)*(1-value_lost)\n",
    "            for j in range(defaults,basket):\n",
    "                pl[j]=non_default_premium+pl[defaults-1]\n",
    "                dl[j]=0\n",
    "    \n",
    "    \n",
    "    return pl,dl"
   ]
  },
  {
   "cell_type": "code",
   "execution_count": 28,
   "metadata": {
    "scrolled": false
   },
   "outputs": [
    {
     "name": "stdout",
     "output_type": "stream",
     "text": [
      "[ 0.01160408  0.02011474  0.02880533  0.03863741  0.04844938  0.04452819\n",
      "  0.05015968  0.04541094  0.04867697]\n",
      "[ 0.00876977  0.01449935  0.02033211  0.03027273  0.03854667  0.03962975\n",
      "  0.04593548  0.03727841  0.03997171]\n",
      "[ 0.01232869  0.02072086  0.0292932   0.04029934  0.05068863  0.0476382\n",
      "  0.05402448  0.05069048  0.0549873 ]\n",
      "[ 0.00863759  0.01481014  0.02109495  0.03127536  0.03992415  0.03815621\n",
      "  0.04368663  0.03779366  0.0406302 ]\n",
      "[ 0.00890193  0.01573917  0.02270431  0.03159393  0.03992582  0.04044626\n",
      "  0.04659607  0.03897328  0.04183233]\n"
     ]
    }
   ],
   "source": [
    "#------------------> Importing Spread data with different maurities <----------------------#\n",
    "''' \n",
    "The CDS data format contains columns as CDS prices of securities indexed by dates for a given maturity. \n",
    "The maturity parameter represents the different maturities for which data is available in the cds_data folder\n",
    "'''\n",
    "mats=[1,3,5,7,10]\n",
    "basket=5\n",
    "basket_weights=[0.2]*5\n",
    "data=import_spread(mats)\n",
    "spreads= interpolate_CDS(data,mats)\n",
    "\n",
    "'''\n",
    "The stock data is imported and converted to daily returns. \n",
    "The returns are standardised and an nd-array of returns is returned.\n",
    "These returns are used to calculate the covariance matrix.\n",
    "The symbols parameter takes in the Nifty symbols of the security. \n",
    "'''\n",
    "symbols=['BANKINDIA','SBIN','IDBI','RELIANCE','ICICIBANK']\n",
    "returns = import_stock_returns(symbols)\n",
    "\n",
    "'''\n",
    "The lambdas from the spread are bootstrapped for computing the default times. The survival probabilities are computed first and then lambdas are bootsrapped from them\n",
    "The spread parameter takes as input the CDS prices for different maturities for a given security. \n",
    "Here, the spread maturities are not equidistant and the dt's are different at each step\n",
    "The recovery rate at default is hard coded to be 0.4 \n",
    "The maturities parameter are the number of maturities for which the spread value exists\n",
    "The lambdas for multiple maturities are converted to  equidistant lambdas using linear interpolation\n",
    "'''\n",
    "dt=[]\n",
    "dt.append(mats[0]-0)\n",
    "rr=0.4\n",
    "lgd=1-rr\n",
    "discount_rate=0.02\n",
    "\n",
    "for i in range(1,len(mats)):\n",
    "    dt.append(mats[i]-mats[i-1])\n",
    "\n",
    "annual_lambdas=[]\n",
    "survival_probabilities=[]\n",
    "\n",
    "for i in range(len(symbols)):\n",
    "    lambs,surv_p=bootstrap(spreads[i]/10000,1, lgd, discount_rate)\n",
    "    annual_lambdas.append(lambs)\n",
    "    survival_probabilities.append(surv_p)\n",
    "    \n",
    "\n"
   ]
  },
  {
   "cell_type": "code",
   "execution_count": 43,
   "metadata": {},
   "outputs": [
    {
     "name": "stdout",
     "output_type": "stream",
     "text": [
      "The average credit spread for kth to default probabilities is : [ 0.01240883  0.00854432  0.00639248  0.00474695  0.00302214]\n"
     ]
    },
    {
     "data": {
      "text/plain": [
       "[<matplotlib.lines.Line2D at 0x10f5d3e10>]"
      ]
     },
     "execution_count": 43,
     "metadata": {},
     "output_type": "execute_result"
    },
    {
     "data": {
      "image/png": "[encoded data removed]",
      "text/plain": [
       "<Figure size 432x288 with 1 Axes>"
      ]
     },
     "metadata": {},
     "output_type": "display_data"
    }
   ],
   "source": [
    "'''\n",
    "Computing the covariance matrix from the stock returns data. \n",
    "The returns are the standardised stock returns, the basket parameter is the number of stocks in the basket.\n",
    "The correlation in the covariance matrix can be calculated using Linear, Spearman and Kendal Tau correlation and the kind parameter corresponds to this.\n",
    "'''\n",
    "cov_mat=compute_cov_mat(returns,basket,kind='Spearman')\n",
    "\n",
    "running_pl=np.zeros(basket,dtype=np.float)\n",
    "running_dl=np.zeros(basket,dtype=np.float)\n",
    "iterations=100000\n",
    "rfr=0.02\n",
    "maturity=5\n",
    "for i in range(iterations):\n",
    "    '''\n",
    "    The probabilities of default are simulated using the joint distribution from copula. \n",
    "    The sampling can be performed from Gaussian or t-Student distribution. \n",
    "    The degrees of freedom can either be passed explicitely, or can be optimised using maximum log likelihood\n",
    "    \n",
    "    '''\n",
    "    u=simulating_random_zhist(basket,cov_mat,'t-Student',returns,7,optimise=False)\n",
    "    \n",
    "    '''\n",
    "    The default time is simulated from the the sampled probabilities of default and the marginal lambdas\n",
    "    '''\n",
    "    def_time,def_year=default_times(annual_lambdas,survival_probabilities,u)\n",
    "\n",
    "    '''\n",
    "    The premium and default leg are calculated then for the kth to default. \n",
    "    The basket weights parameter outlines the assets weights in the basket. \n",
    "    The rfr is the risk free rate and the rr is the recovery rate of the asset. \n",
    "    '''\n",
    "    pppl,dddl = payments(def_time,def_year,rr,rfr,basket,basket_weights)\n",
    "    \n",
    "    running_pl+=pppl\n",
    "    running_dl+=dddl\n",
    "\n",
    "\n",
    "spread_value = np.array(running_dl)/np.array(running_pl)\n",
    "\n",
    "print 'The average credit spread for kth to default probabilities is : {}'.format(spread_value)\n",
    "plt.plot(spread_value)"
   ]
  },
  {
   "cell_type": "code",
   "execution_count": null,
   "metadata": {
    "collapsed": true
   },
   "outputs": [],
   "source": []
  },
  {
   "cell_type": "code",
   "execution_count": null,
   "metadata": {
    "collapsed": true
   },
   "outputs": [],
   "source": []
  }
 ],
 "metadata": {
  "kernelspec": {
   "display_name": "Python 2",
   "language": "python",
   "name": "python2"
  },
  "language_info": {
   "codemirror_mode": {
    "name": "ipython",
    "version": 2
   },
   "file_extension": ".py",
   "mimetype": "text/x-python",
   "name": "python",
   "nbconvert_exporter": "python",
   "pygments_lexer": "ipython2",
   "version": "2.7.6"
  }
 },
 "nbformat": 4,
 "nbformat_minor": 2
}
